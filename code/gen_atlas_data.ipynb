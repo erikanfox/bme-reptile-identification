{
 "cells": [
  {
   "cell_type": "code",
   "execution_count": 18,
   "metadata": {},
   "outputs": [],
   "source": [
    "import numpy as np\n",
    "import os\n",
    "from random import choice, randint,sample\n",
    "from PIL import Image, ImageOps\n",
    "import pandas as pd\n",
    "import matplotlib.pyplot as plt\n",
    "from ipynb.fs.full.create_dataframe import read_data"
   ]
  },
  {
   "cell_type": "code",
   "execution_count": 19,
   "metadata": {},
   "outputs": [],
   "source": [
    "def show_images(image_list):\n",
    "    for i in image_list:\n",
    "        plt.imshow(i)\n",
    "        plt.pause(0.5)\n",
    "\n",
    "def convertToArray(image_list):\n",
    "    image_array_list=[]\n",
    "    for i in image_list:\n",
    "        image_array_list.append(np.asarray(i))\n",
    "    return pd.Series(image_array_list)\n",
    "\n",
    "def convertToImage(image_array_list):\n",
    "    image_list=[]\n",
    "    for i in image_array_list:\n",
    "        image_list.append(Image.fromarray(i))\n",
    "    return pd.Series(image_list)"
   ]
  },
  {
   "cell_type": "code",
   "execution_count": 20,
   "metadata": {},
   "outputs": [],
   "source": [
    "import cv2\n",
    "import numpy as np\n",
    "\n",
    "# create a white image\n",
    "white = np.ones((128, 128, 3), dtype = np.uint8)\n",
    "white = 255* white\n",
    "white=Image.fromarray(white)\n",
    "\n",
    "# display the image using opencv\n",
    "# plt.imshow(white)"
   ]
  },
  {
   "cell_type": "code",
   "execution_count": 21,
   "metadata": {},
   "outputs": [],
   "source": [
    "reptiles=read_data([\"Crocodile_Alligator\",\"Gecko\"])"
   ]
  },
  {
   "cell_type": "code",
   "execution_count": 22,
   "metadata": {},
   "outputs": [],
   "source": [
    "def gen_pairs(num_memes,data):\n",
    "    white = np.ones((128, 128, 3), dtype = np.uint8)\n",
    "    white = 255* white\n",
    "    white=Image.fromarray(white)\n",
    "    paired_images=pd.DataFrame()\n",
    "    for i in range(0,num_memes):\n",
    "        #randomly choose a nicpic and a stock_image\n",
    "        rep_type=choice(reptiles[\"target\"].unique())\n",
    "        images=sample(list(reptiles[reptiles[\"target\"]==rep_type][\"image\"]),2)\n",
    "\n",
    "        img0=Image.fromarray(images[0])\n",
    "        img1=Image.fromarray(images[1])\n",
    "\n",
    "        # get new dimensions for nic sticker\n",
    "        # this lets us shrink so will be smaller than background\n",
    "        # but keeps it in proportion\n",
    "        resize_height_0=int(white.size[0]/2)\n",
    "        resize_width_0= int((resize_height_0*img0.size[1])/img0.size[0])\n",
    "        resize_height_1=int(white.size[0]/2)\n",
    "        resize_width_1= int((resize_height_1*img1.size[1])/img1.size[0])\n",
    "\n",
    "        # shrink nic sticker\n",
    "        img0=img0.resize((resize_height_0,resize_width_0))\n",
    "        img1=img1.resize((resize_height_1,resize_width_1))\n",
    "\n",
    "        # get ranges for where sticker can go so \n",
    "        # it stays in bounds of the image\n",
    "        max_height_0=white.size[0]-img0.size[0]\n",
    "        max_width_0=white.size[1]-img0.size[1]\n",
    "        max_height_1=white.size[0]-img1.size[0]\n",
    "        max_width_1=white.size[1]-img1.size[1]\n",
    "        height0=randint(0,max_height_0)\n",
    "        width0=randint(0,max_width_0)\n",
    "        height1=randint(0,max_height_1)\n",
    "        width1=randint(0,max_width_1)\n",
    "\n",
    "        # superimpose and add to meme list\n",
    "        m=white.copy()\n",
    "        m.paste(img0, (height0,0), mask = img0)\n",
    "        m.paste(img1, (height1,resize_width_0), mask = img1)\n",
    "        df=pd.DataFrame({\"image\":[m]})\n",
    "        df[\"target\"]=rep_type\n",
    "\n",
    "        paired_images=pd.concat([paired_images,df])\n",
    "        paired_images[\"image\"]=paired_images[\"image\"].apply(lambda x:np.asarray(x))\n",
    "\n",
    "    return paired_images.reset_index()"
   ]
  },
  {
   "cell_type": "code",
   "execution_count": 23,
   "metadata": {},
   "outputs": [],
   "source": [
    "df=gen_pairs(2800,reptiles)"
   ]
  },
  {
   "cell_type": "code",
   "execution_count": 24,
   "metadata": {},
   "outputs": [
    {
     "data": {
      "text/plain": [
       "Turtle_Tortoise    588\n",
       "Lizard             580\n",
       "Salamander         546\n",
       "Frog_Toad          545\n",
       "Snake              541\n",
       "Name: target, dtype: int64"
      ]
     },
     "execution_count": 24,
     "metadata": {},
     "output_type": "execute_result"
    }
   ],
   "source": [
    "df.target.value_counts()"
   ]
  },
  {
   "cell_type": "code",
   "execution_count": 25,
   "metadata": {},
   "outputs": [
    {
     "data": {
      "text/plain": [
       "Frog_Toad          500\n",
       "Lizard             500\n",
       "Snake              500\n",
       "Turtle_Tortoise    500\n",
       "Salamander         500\n",
       "Name: target, dtype: int64"
      ]
     },
     "execution_count": 25,
     "metadata": {},
     "output_type": "execute_result"
    }
   ],
   "source": [
    "# cap each class at 500 samples\n",
    "\n",
    "frog=df[df[\"target\"]==\"Frog_Toad\"].sample(500)\n",
    "liz=df[df[\"target\"]==\"Lizard\"].sample(500)\n",
    "snake=df[df[\"target\"]==\"Snake\"].sample(500)\n",
    "turt=df[df[\"target\"]==\"Turtle_Tortoise\"].sample(500)\n",
    "sala=df[df[\"target\"]==\"Salamander\"].sample(500)\n",
    "\n",
    "\n",
    "rep_pairs= pd.concat([frog,liz,snake,turt,sala])\n",
    "rep_pairs.target.value_counts()\n"
   ]
  },
  {
   "cell_type": "code",
   "execution_count": 26,
   "metadata": {},
   "outputs": [
    {
     "data": {
      "text/html": [
       "<div>\n",
       "<style scoped>\n",
       "    .dataframe tbody tr th:only-of-type {\n",
       "        vertical-align: middle;\n",
       "    }\n",
       "\n",
       "    .dataframe tbody tr th {\n",
       "        vertical-align: top;\n",
       "    }\n",
       "\n",
       "    .dataframe thead th {\n",
       "        text-align: right;\n",
       "    }\n",
       "</style>\n",
       "<table border=\"1\" class=\"dataframe\">\n",
       "  <thead>\n",
       "    <tr style=\"text-align: right;\">\n",
       "      <th></th>\n",
       "      <th>index</th>\n",
       "      <th>image</th>\n",
       "      <th>target</th>\n",
       "    </tr>\n",
       "  </thead>\n",
       "  <tbody>\n",
       "    <tr>\n",
       "      <th>1347</th>\n",
       "      <td>0</td>\n",
       "      <td>[[[255, 255, 255], [255, 255, 255], [255, 255,...</td>\n",
       "      <td>Frog_Toad</td>\n",
       "    </tr>\n",
       "    <tr>\n",
       "      <th>2792</th>\n",
       "      <td>0</td>\n",
       "      <td>[[[255, 255, 255], [255, 255, 255], [255, 255,...</td>\n",
       "      <td>Frog_Toad</td>\n",
       "    </tr>\n",
       "    <tr>\n",
       "      <th>2655</th>\n",
       "      <td>0</td>\n",
       "      <td>[[[255, 255, 255], [255, 255, 255], [255, 255,...</td>\n",
       "      <td>Frog_Toad</td>\n",
       "    </tr>\n",
       "    <tr>\n",
       "      <th>2635</th>\n",
       "      <td>0</td>\n",
       "      <td>[[[255, 255, 255], [255, 255, 255], [255, 255,...</td>\n",
       "      <td>Frog_Toad</td>\n",
       "    </tr>\n",
       "    <tr>\n",
       "      <th>2456</th>\n",
       "      <td>0</td>\n",
       "      <td>[[[255, 255, 255], [255, 255, 255], [255, 255,...</td>\n",
       "      <td>Frog_Toad</td>\n",
       "    </tr>\n",
       "    <tr>\n",
       "      <th>...</th>\n",
       "      <td>...</td>\n",
       "      <td>...</td>\n",
       "      <td>...</td>\n",
       "    </tr>\n",
       "    <tr>\n",
       "      <th>663</th>\n",
       "      <td>0</td>\n",
       "      <td>[[[255, 255, 255], [255, 255, 255], [255, 255,...</td>\n",
       "      <td>Salamander</td>\n",
       "    </tr>\n",
       "    <tr>\n",
       "      <th>588</th>\n",
       "      <td>0</td>\n",
       "      <td>[[[255, 255, 255], [255, 255, 255], [255, 255,...</td>\n",
       "      <td>Salamander</td>\n",
       "    </tr>\n",
       "    <tr>\n",
       "      <th>162</th>\n",
       "      <td>0</td>\n",
       "      <td>[[[255, 255, 255], [255, 255, 255], [255, 255,...</td>\n",
       "      <td>Salamander</td>\n",
       "    </tr>\n",
       "    <tr>\n",
       "      <th>1596</th>\n",
       "      <td>0</td>\n",
       "      <td>[[[255, 255, 255], [255, 255, 255], [255, 255,...</td>\n",
       "      <td>Salamander</td>\n",
       "    </tr>\n",
       "    <tr>\n",
       "      <th>2798</th>\n",
       "      <td>0</td>\n",
       "      <td>[[[255, 255, 255], [255, 255, 255], [255, 255,...</td>\n",
       "      <td>Salamander</td>\n",
       "    </tr>\n",
       "  </tbody>\n",
       "</table>\n",
       "<p>2500 rows × 3 columns</p>\n",
       "</div>"
      ],
      "text/plain": [
       "      index                                              image      target\n",
       "1347      0  [[[255, 255, 255], [255, 255, 255], [255, 255,...   Frog_Toad\n",
       "2792      0  [[[255, 255, 255], [255, 255, 255], [255, 255,...   Frog_Toad\n",
       "2655      0  [[[255, 255, 255], [255, 255, 255], [255, 255,...   Frog_Toad\n",
       "2635      0  [[[255, 255, 255], [255, 255, 255], [255, 255,...   Frog_Toad\n",
       "2456      0  [[[255, 255, 255], [255, 255, 255], [255, 255,...   Frog_Toad\n",
       "...     ...                                                ...         ...\n",
       "663       0  [[[255, 255, 255], [255, 255, 255], [255, 255,...  Salamander\n",
       "588       0  [[[255, 255, 255], [255, 255, 255], [255, 255,...  Salamander\n",
       "162       0  [[[255, 255, 255], [255, 255, 255], [255, 255,...  Salamander\n",
       "1596      0  [[[255, 255, 255], [255, 255, 255], [255, 255,...  Salamander\n",
       "2798      0  [[[255, 255, 255], [255, 255, 255], [255, 255,...  Salamander\n",
       "\n",
       "[2500 rows x 3 columns]"
      ]
     },
     "execution_count": 26,
     "metadata": {},
     "output_type": "execute_result"
    }
   ],
   "source": [
    "rep_pairs"
   ]
  },
  {
   "cell_type": "code",
   "execution_count": 27,
   "metadata": {},
   "outputs": [],
   "source": [
    "path=\"\"\n",
    "#path+=\"/Users/erikafox/bme-reptile-identification/\""
   ]
  },
  {
   "cell_type": "code",
   "execution_count": 29,
   "metadata": {},
   "outputs": [],
   "source": [
    "num=0\n",
    "for i in rep_pairs.image:\n",
    "    Image.fromarray(i).save(path+\"data/paired_reptiles/\"+str(num)+\".png\")\n",
    "    num+=1"
   ]
  },
  {
   "cell_type": "code",
   "execution_count": null,
   "metadata": {},
   "outputs": [],
   "source": []
  }
 ],
 "metadata": {
  "kernelspec": {
   "display_name": "base",
   "language": "python",
   "name": "python3"
  },
  "language_info": {
   "codemirror_mode": {
    "name": "ipython",
    "version": 3
   },
   "file_extension": ".py",
   "mimetype": "text/x-python",
   "name": "python",
   "nbconvert_exporter": "python",
   "pygments_lexer": "ipython3",
   "version": "3.9.5"
  },
  "orig_nbformat": 4,
  "vscode": {
   "interpreter": {
    "hash": "3d597f4c481aa0f25dceb95d2a0067e73c0966dcbd003d741d821a7208527ecf"
   }
  }
 },
 "nbformat": 4,
 "nbformat_minor": 2
}
