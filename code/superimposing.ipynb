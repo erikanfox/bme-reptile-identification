{
 "cells": [
  {
   "cell_type": "code",
   "execution_count": 233,
   "metadata": {},
   "outputs": [],
   "source": [
    "import numpy as np\n",
    "import os\n",
    "from random import choice, randint,sample\n",
    "from PIL import Image, ImageOps\n",
    "import pandas as pd\n",
    "import matplotlib.pyplot as plt\n",
    "from ipynb.fs.full.create_dataframe import read_data"
   ]
  },
  {
   "cell_type": "code",
   "execution_count": 234,
   "metadata": {},
   "outputs": [],
   "source": [
    "def show_images(image_list):\n",
    "    for i in image_list:\n",
    "        plt.imshow(i)\n",
    "        plt.pause(0.5)\n",
    "\n",
    "def convertToArray(image_list):\n",
    "    image_array_list=[]\n",
    "    for i in image_list:\n",
    "        image_array_list.append(np.asarray(i))\n",
    "    return pd.Series(image_array_list)\n",
    "\n",
    "def convertToImage(image_array_list):\n",
    "    image_list=[]\n",
    "    for i in image_array_list:\n",
    "        image_list.append(Image.fromarray(i))\n",
    "    return pd.Series(image_list)"
   ]
  },
  {
   "cell_type": "code",
   "execution_count": 235,
   "metadata": {},
   "outputs": [
    {
     "data": {
      "text/plain": [
       "<matplotlib.image.AxesImage at 0x7f83479cae50>"
      ]
     },
     "execution_count": 235,
     "metadata": {},
     "output_type": "execute_result"
    },
    {
     "data": {
      "image/png": "[encoded data removed]",
      "text/plain": [
       "<Figure size 432x288 with 1 Axes>"
      ]
     },
     "metadata": {
      "needs_background": "light"
     },
     "output_type": "display_data"
    }
   ],
   "source": [
    "import cv2\n",
    "import numpy as np\n",
    "\n",
    "# create a white image\n",
    "white = np.ones((128, 128, 3), dtype = np.uint8)\n",
    "white = 255* white\n",
    "white=Image.fromarray(white)\n",
    "\n",
    "# display the image using opencv\n",
    "plt.imshow(white)"
   ]
  },
  {
   "cell_type": "code",
   "execution_count": 237,
   "metadata": {},
   "outputs": [],
   "source": [
    "reptiles=read_data([\"Crocodile_Alligator\",\"Gecko\"])"
   ]
  },
  {
   "cell_type": "code",
   "execution_count": 238,
   "metadata": {},
   "outputs": [],
   "source": [
    "def gen_pairs(num_memes,data):\n",
    "    white = np.ones((128, 128, 3), dtype = np.uint8)\n",
    "    white = 255* white\n",
    "    white=Image.fromarray(white)\n",
    "    paired_images=pd.DataFrame()\n",
    "    for i in range(0,num_memes):\n",
    "        #randomly choose a nicpic and a stock_image\n",
    "        rep_type=choice(reptiles[\"target\"].unique())\n",
    "        images=sample(list(reptiles[reptiles[\"target\"]==rep_type][\"image\"]),2)\n",
    "\n",
    "        img0=Image.fromarray(images[0])\n",
    "        img1=Image.fromarray(images[1])\n",
    "\n",
    "        # get new dimensions for nic sticker\n",
    "        # this lets us shrink so will be smaller than background\n",
    "        # but keeps it in proportion\n",
    "        resize_height_0=int(white.size[0]/2)\n",
    "        resize_width_0= int((resize_height_0*img0.size[1])/img0.size[0])\n",
    "        resize_height_1=int(white.size[0]/2)\n",
    "        resize_width_1= int((resize_height_1*img1.size[1])/img1.size[0])\n",
    "\n",
    "        # shrink nic sticker\n",
    "        img0=img0.resize((resize_height_0,resize_width_0))\n",
    "        img1=img1.resize((resize_height_1,resize_width_1))\n",
    "\n",
    "        # get ranges for where sticker can go so \n",
    "        # it stays in bounds of the image\n",
    "        max_height_0=white.size[0]-img0.size[0]\n",
    "        max_width_0=white.size[1]-img0.size[1]\n",
    "        max_height_1=white.size[0]-img1.size[0]\n",
    "        max_width_1=white.size[1]-img1.size[1]\n",
    "        height0=randint(0,max_height_0)\n",
    "        width0=randint(0,max_width_0)\n",
    "        height1=randint(0,max_height_1)\n",
    "        width1=randint(0,max_width_1)\n",
    "\n",
    "        # superimpose and add to meme list\n",
    "        m=white.copy()\n",
    "        m.paste(img0, (height0,width0), mask = img0)\n",
    "        m.paste(img1, (height1,width1), mask = img1)\n",
    "        df=pd.DataFrame({\"image\":[m]})\n",
    "        df[\"target\"]=rep_type\n",
    "\n",
    "        paired_images=pd.concat([paired_images,df])\n",
    "        paired_images[\"image\"]=paired_images[\"image\"].apply(lambda x:np.asarray(x))\n",
    "\n",
    "    return paired_images"
   ]
  },
  {
   "cell_type": "code",
   "execution_count": null,
   "metadata": {},
   "outputs": [],
   "source": [
    "df=gen_pairs(2800,reptiles)"
   ]
  },
  {
   "cell_type": "code",
   "execution_count": null,
   "metadata": {},
   "outputs": [
    {
     "data": {
      "text/plain": [
       "Salamander         585\n",
       "Turtle_Tortoise    573\n",
       "Lizard             559\n",
       "Frog_Toad          543\n",
       "Snake              540\n",
       "Name: target, dtype: int64"
      ]
     },
     "execution_count": 230,
     "metadata": {},
     "output_type": "execute_result"
    }
   ],
   "source": [
    "df.target.value_counts()"
   ]
  }
 ],
 "metadata": {
  "kernelspec": {
   "display_name": "base",
   "language": "python",
   "name": "python3"
  },
  "language_info": {
   "codemirror_mode": {
    "name": "ipython",
    "version": 3
   },
   "file_extension": ".py",
   "mimetype": "text/x-python",
   "name": "python",
   "nbconvert_exporter": "python",
   "pygments_lexer": "ipython3",
   "version": "3.9.5"
  },
  "orig_nbformat": 4,
  "vscode": {
   "interpreter": {
    "hash": "3d597f4c481aa0f25dceb95d2a0067e73c0966dcbd003d741d821a7208527ecf"
   }
  }
 },
 "nbformat": 4,
 "nbformat_minor": 2
}
