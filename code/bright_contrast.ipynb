{
 "cells": [
  {
   "cell_type": "code",
   "execution_count": 13,
   "metadata": {},
   "outputs": [],
   "source": [
    "import cv2\n",
    "import numpy as np\n",
    "import pandas as pd\n",
    "import os\n",
    "from sklearn.preprocessing import OneHotEncoder\n",
    "import matplotlib.pyplot as plt\n",
    "from sklearn.model_selection import train_test_split\n",
    "import tensorflow as tf\n",
    "from keras.preprocessing.image import ImageDataGenerator\n",
    "from keras.layers import Conv2D, MaxPooling2D, GlobalAveragePooling2D, Flatten, Dense, Dropout\n",
    "from tensorflow.keras.models import Model\n",
    "from tensorflow.keras.applications.xception import Xception\n",
    "from tensorflow.keras.optimizers import Adam\n",
    "import seaborn as sns\n",
    "from PIL import Image\n",
    "from sklearn.metrics import confusion_matrix\n",
    "from random import choice,sample\n",
    "from ipynb.fs.full.create_dataframe import read_data\n",
    "\n"
   ]
  },
  {
   "cell_type": "code",
   "execution_count": 14,
   "metadata": {},
   "outputs": [],
   "source": [
    "def basic_preprocess(dataframe):\n",
    "    # Basic preprocessing \n",
    "    dataframe=dataframe[dataframe.astype(str)['image'] != '[]']\n",
    "    # prepare X\n",
    "    img_list = list(dataframe['image'])\n",
    "    data_img = []\n",
    "    for each in img_list:\n",
    "                each_img = cv2.cvtColor(each, cv2.COLOR_BGR2RGB)\n",
    "                #Resize the images:\n",
    "                each_img_resized = cv2.resize(each_img, (128,128))\n",
    "                #Save arrays to a list:\n",
    "\n",
    "\n",
    "                \n",
    "                data_img.append(each_img_resized)\n",
    "    # Converting list to numpy array\n",
    "    X = np.array(data_img)\n",
    "\n",
    "    # prepare y\n",
    "    y = OneHotEncoder(dtype='int8', sparse=False).fit_transform(dataframe['target'].values.reshape(-1,1))\n",
    "\n",
    "    return X,y\n",
    "\n",
    "def fit_model(X_train,y_train,X_val,y_val):\n",
    "    #  code adapted from:\n",
    "    #  https://pub.towardsai.net/multiclass-image-classification-hands-on-with-keras-and-tensoflow-e1cf434f3467\n",
    "\n",
    "\n",
    "    train_gen = ImageDataGenerator(horizontal_flip=True,\n",
    "                               rotation_range = 45,\n",
    "                               zoom_range=0.2,\n",
    "                               height_shift_range = 0.5,\n",
    "                               width_shift_range = 0.5)\n",
    "    validation_gen = ImageDataGenerator(horizontal_flip=True,\n",
    "                                    rotation_range = 45,\n",
    "                                    zoom_range=0.2,\n",
    "                                    height_shift_range = 0.5,\n",
    "                                    width_shift_range = 0.5)\n",
    "    train_gen.fit(X_train)\n",
    "    validation_gen.fit(X_val)\n",
    "    batch_size = 64\n",
    "    epochs = 10\n",
    "    base = Xception(include_top=False, \n",
    "                weights='imagenet', \n",
    "                input_shape=(128,128,3))\n",
    "    x = base.output\n",
    "    x = GlobalAveragePooling2D()(x)\n",
    "    head = Dense(y_train.shape[1], activation='softmax')(x)\n",
    "    model = Model(inputs=base.input, outputs=head)\n",
    "    model.compile(optimizer=Adam(learning_rate=0.0001),\n",
    "              loss = 'categorical_crossentropy',\n",
    "              metrics=['accuracy'], run_eagerly=True)\n",
    "    \n",
    "    fit = model.fit_generator(\n",
    "               train_gen.flow(X_train, y_train,\n",
    "               batch_size=batch_size),\n",
    "               epochs = epochs,\n",
    "               validation_data = validation_gen.flow(X_val, y_val)\n",
    ")\n",
    "\n",
    "    return model,fit"
   ]
  },
  {
   "cell_type": "code",
   "execution_count": 15,
   "metadata": {},
   "outputs": [],
   "source": [
    "def bright_contrast (image, alpha=1, beta=0):\n",
    "    return cv2.convertScaleAbs(image, alpha=alpha, beta=beta)"
   ]
  },
  {
   "cell_type": "code",
   "execution_count": 16,
   "metadata": {},
   "outputs": [],
   "source": [
    "reptiles=read_data([\"Lizard\",\"Toad\"])"
   ]
  },
  {
   "cell_type": "code",
   "execution_count": 17,
   "metadata": {},
   "outputs": [],
   "source": [
    "reptiles[\"image\"]=reptiles[\"image\"].apply(lambda x: bright_contrast(x))"
   ]
  },
  {
   "cell_type": "code",
   "execution_count": 18,
   "metadata": {},
   "outputs": [
    {
     "name": "stdout",
     "output_type": "stream",
     "text": [
      "X_train shape:  (2460, 128, 128, 3)\n",
      "y_train shape:  (2460, 8)\n",
      "X_val shape  :  (616, 128, 128, 3)\n",
      "y_val shape  :  (616, 8)\n",
      "X_test shape :  (543, 128, 128, 3)\n",
      "y_test shape :  (543, 8)\n"
     ]
    }
   ],
   "source": [
    "X,y= basic_preprocess(reptiles) ## replace this to change preprocessing\n",
    "\n",
    "X_data, X_test, y_data, y_test = train_test_split(X, y, test_size=0.15, random_state=42)\n",
    "X_train, X_val, y_train, y_val = train_test_split(X_data, y_data, test_size=0.2, random_state=42)\n",
    "\n",
    "print('X_train shape: ', X_train.shape)\n",
    "print('y_train shape: ', y_train.shape)\n",
    "print('X_val shape  : ', X_val.shape)\n",
    "print('y_val shape  : ', y_val.shape)\n",
    "print('X_test shape : ', X_test.shape)\n",
    "print('y_test shape : ', y_test.shape)"
   ]
  },
  {
   "cell_type": "code",
   "execution_count": 23,
   "metadata": {},
   "outputs": [
    {
     "data": {
      "text/plain": [
       "(128, 128, 3)"
      ]
     },
     "execution_count": 23,
     "metadata": {},
     "output_type": "execute_result"
    }
   ],
   "source": [
    "X[1].shape"
   ]
  },
  {
   "cell_type": "code",
   "execution_count": 24,
   "metadata": {},
   "outputs": [
    {
     "name": "stderr",
     "output_type": "stream",
     "text": [
      "/var/folders/5b/sjkc4b8n0hs41zd03hxr66100000gn/T/ipykernel_45209/1864782142.py:51: UserWarning: `Model.fit_generator` is deprecated and will be removed in a future version. Please use `Model.fit`, which supports generators.\n",
      "  fit = model.fit_generator(\n"
     ]
    },
    {
     "name": "stdout",
     "output_type": "stream",
     "text": [
      "Epoch 1/10\n"
     ]
    }
   ],
   "source": [
    "model,fit=fit_model(X_train,y_train,X_val,y_val)"
   ]
  },
  {
   "cell_type": "code",
   "execution_count": null,
   "metadata": {},
   "outputs": [],
   "source": [
    "\n",
    "\n"
   ]
  },
  {
   "cell_type": "code",
   "execution_count": null,
   "metadata": {},
   "outputs": [],
   "source": []
  }
 ],
 "metadata": {
  "kernelspec": {
   "display_name": "Python 3",
   "language": "python",
   "name": "python3"
  },
  "language_info": {
   "codemirror_mode": {
    "name": "ipython",
    "version": 3
   },
   "file_extension": ".py",
   "mimetype": "text/x-python",
   "name": "python",
   "nbconvert_exporter": "python",
   "pygments_lexer": "ipython3",
   "version": "3.9.5"
  },
  "orig_nbformat": 4
 },
 "nbformat": 4,
 "nbformat_minor": 2
}
